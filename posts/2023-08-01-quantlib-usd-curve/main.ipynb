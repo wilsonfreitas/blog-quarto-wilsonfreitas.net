{
    "cells": [
        {
            "cell_type": "markdown",
            "metadata": {},
            "source": [
                "---\n",
                "title: \"QuantLib: Curva de Cupom Cambial\"\n",
                "description: |\n",
                "    Como construir as curvas de cupom cambial, limpo e sujo, usando QuantLib com Python.\n",
                "author:\n",
                "  - name: Wilson Freitas\n",
                "    url: {}\n",
                "date: 2023-08-01\n",
                "categories:\n",
                "  - python\n",
                "  - quantlib\n",
                "  - brasa\n",
                "  - B3\n",
                "---"
            ]
        },
        {
            "cell_type": "markdown",
            "metadata": {},
            "source": [
                "Vamos construir as curvas de cupom cambial, limpo e sujo, da B3 utilizando a biblioteca QuantLib.\n",
                "\n",
                "Primeiramente vou fazer o *setup* do projeto `brasa` definindo o repositório que contém os dados.\n",
                "Lembrando que o projeto `brasa` é um projeto em release *alpha* que venho trabalhando para organizar dados de fontes\n",
                "públicas."
            ]
        },
        {
            "cell_type": "code",
            "execution_count": 1,
            "metadata": {},
            "outputs": [],
            "source": [
                "import os\n",
                "os.environ[\"BRASA_DATA_PATH\"] = \"D:\\\\brasa\"\n",
                "import brasa"
            ]
        },
        {
            "cell_type": "markdown",
            "metadata": {},
            "source": [
                "Os demais pacotes importados são o *setup* básico que inclui: `pandas`, `numpy`, `datetime`, `matplotlib` e `pyarrow`."
            ]
        },
        {
            "cell_type": "code",
            "execution_count": 2,
            "metadata": {},
            "outputs": [],
            "source": [
                "from datetime import datetime\n",
                "\n",
                "import QuantLib as ql\n",
                "import pandas as pd\n",
                "import numpy as np\n",
                "import pyarrow.compute as pc\n",
                "import matplotlib.ticker as mticker"
            ]
        },
        {
            "cell_type": "markdown",
            "metadata": {},
            "source": [
                "Vou trabalhar com a data de referência 2023-07-14.\n",
                "Para esta data vamos começar carregando os contratos futuros de dólar (DOL) e taxa DI (DI1) negociados na B3.\n",
                "Utilizo o pacote `brasa` para obter os dados de preços de ajuste dos contratos futuros da B3."
            ]
        },
        {
            "cell_type": "code",
            "execution_count": 3,
            "metadata": {},
            "outputs": [],
            "source": [
                "refdate = datetime(2023, 7, 14)\n",
                "\n",
                "fut_dol = (brasa\n",
                "         .get_dataset(\"b3-futures-dol\")\n",
                "         .filter(pc.field(\"refdate\") == refdate)\n",
                "         .to_table()\n",
                "         .to_pandas())\n",
                "\n",
                "fut_di1 = (brasa\n",
                "         .get_dataset(\"b3-futures-di1\")\n",
                "         .filter(pc.field(\"refdate\") == refdate)\n",
                "         .to_table()\n",
                "         .to_pandas())"
            ]
        },
        {
            "cell_type": "markdown",
            "metadata": {},
            "source": [
                "Agora vamos pegar a taxa DI para a data de referência utilizando o *dataset* de indicadores econômicos divulgado pela B3.\n",
                "Isso é importante porque estes dados são utilizados pela B3 na construção das curvas."
            ]
        },
        {
            "cell_type": "code",
            "execution_count": 4,
            "metadata": {},
            "outputs": [],
            "source": [
                "cdi = (brasa\n",
                "    .get_dataset(\"b3-economic-indicators-price\")\n",
                "    .filter(pc.field(\"refdate\") == refdate)\n",
                "    .filter(pc.field(\"commodity\") == \"DI1\")\n",
                "    .filter(pc.field(\"symbol\") == \"RTDI1\")\n",
                "    .to_table(columns=[\"price\"])\n",
                "    .to_pandas().iloc[0,0]) / 100"
            ]
        },
        {
            "cell_type": "markdown",
            "metadata": {},
            "source": [
                "Preciso ainda obter as cotações de dólar, e acredite, temos diversas cotações de dólar.\n",
                "As cotações de dólar são referentes à data de referência e ao dia anterior.\n",
                "Para obter estes pontos de forma higiênica, vou fazer o *setup* da QuantLib e utilizar o calendário brasileiro para\n",
                "filtrar os dados nas datas de interesse, a data de referência e o dia anterior."
            ]
        },
        {
            "cell_type": "code",
            "execution_count": 5,
            "metadata": {},
            "outputs": [],
            "source": [
                "today = ql.Date().from_date(refdate)\n",
                "ql.Settings.instance().evaluationDate = today\n",
                "calendar = ql.Brazil(ql.Brazil.Settlement)\n",
                "calendar_act = ql.NullCalendar()"
            ]
        },
        {
            "cell_type": "code",
            "execution_count": 6,
            "metadata": {},
            "outputs": [
                {
                    "data": {
                        "text/html": [
                            "<div>\n",
                            "<style scoped>\n",
                            "    .dataframe tbody tr th:only-of-type {\n",
                            "        vertical-align: middle;\n",
                            "    }\n",
                            "\n",
                            "    .dataframe tbody tr th {\n",
                            "        vertical-align: top;\n",
                            "    }\n",
                            "\n",
                            "    .dataframe thead th {\n",
                            "        text-align: right;\n",
                            "    }\n",
                            "</style>\n",
                            "<table border=\"1\" class=\"dataframe\">\n",
                            "  <thead>\n",
                            "    <tr style=\"text-align: right;\">\n",
                            "      <th></th>\n",
                            "      <th>refdate</th>\n",
                            "      <th>commodity</th>\n",
                            "      <th>symbol</th>\n",
                            "      <th>description</th>\n",
                            "      <th>price</th>\n",
                            "    </tr>\n",
                            "  </thead>\n",
                            "  <tbody>\n",
                            "    <tr>\n",
                            "      <th>0</th>\n",
                            "      <td>2023-07-13</td>\n",
                            "      <td>DOL</td>\n",
                            "      <td>RTDOLCL</td>\n",
                            "      <td>DÓLAR CUPOM LIMPO - CÁLCULADO PELA B3</td>\n",
                            "      <td>4.7922</td>\n",
                            "    </tr>\n",
                            "    <tr>\n",
                            "      <th>1</th>\n",
                            "      <td>2023-07-13</td>\n",
                            "      <td>DOL</td>\n",
                            "      <td>RTDOLD1</td>\n",
                            "      <td>DÓLAR B3 SPOT - 1 DIA</td>\n",
                            "      <td>4.7949</td>\n",
                            "    </tr>\n",
                            "    <tr>\n",
                            "      <th>2</th>\n",
                            "      <td>2023-07-13</td>\n",
                            "      <td>DOL</td>\n",
                            "      <td>RTDOLD2</td>\n",
                            "      <td>DÓLAR B3 SPOT - 2 DIAS</td>\n",
                            "      <td>4.7967</td>\n",
                            "    </tr>\n",
                            "    <tr>\n",
                            "      <th>3</th>\n",
                            "      <td>2023-07-13</td>\n",
                            "      <td>DOL</td>\n",
                            "      <td>RTDOLT1</td>\n",
                            "      <td>PTAX800 VENDA</td>\n",
                            "      <td>4.8038</td>\n",
                            "    </tr>\n",
                            "    <tr>\n",
                            "      <th>4</th>\n",
                            "      <td>2023-07-14</td>\n",
                            "      <td>DOL</td>\n",
                            "      <td>RTDOLCL</td>\n",
                            "      <td>DÓLAR CUPOM LIMPO - CÁLCULADO PELA B3</td>\n",
                            "      <td>4.7896</td>\n",
                            "    </tr>\n",
                            "    <tr>\n",
                            "      <th>5</th>\n",
                            "      <td>2023-07-14</td>\n",
                            "      <td>DOL</td>\n",
                            "      <td>RTDOLD1</td>\n",
                            "      <td>DÓLAR B3 SPOT - 1 DIA</td>\n",
                            "      <td>4.7901</td>\n",
                            "    </tr>\n",
                            "    <tr>\n",
                            "      <th>6</th>\n",
                            "      <td>2023-07-14</td>\n",
                            "      <td>DOL</td>\n",
                            "      <td>RTDOLD2</td>\n",
                            "      <td>DÓLAR B3 SPOT - 2 DIAS</td>\n",
                            "      <td>4.7905</td>\n",
                            "    </tr>\n",
                            "    <tr>\n",
                            "      <th>7</th>\n",
                            "      <td>2023-07-14</td>\n",
                            "      <td>DOL</td>\n",
                            "      <td>RTDOLT1</td>\n",
                            "      <td>PTAX800 VENDA</td>\n",
                            "      <td>4.7957</td>\n",
                            "    </tr>\n",
                            "  </tbody>\n",
                            "</table>\n",
                            "</div>"
                        ],
                        "text/plain": [
                            "     refdate commodity   symbol                            description   price\n",
                            "0 2023-07-13       DOL  RTDOLCL  DÓLAR CUPOM LIMPO - CÁLCULADO PELA B3  4.7922\n",
                            "1 2023-07-13       DOL  RTDOLD1                  DÓLAR B3 SPOT - 1 DIA  4.7949\n",
                            "2 2023-07-13       DOL  RTDOLD2                 DÓLAR B3 SPOT - 2 DIAS  4.7967\n",
                            "3 2023-07-13       DOL  RTDOLT1                          PTAX800 VENDA  4.8038\n",
                            "4 2023-07-14       DOL  RTDOLCL  DÓLAR CUPOM LIMPO - CÁLCULADO PELA B3  4.7896\n",
                            "5 2023-07-14       DOL  RTDOLD1                  DÓLAR B3 SPOT - 1 DIA  4.7901\n",
                            "6 2023-07-14       DOL  RTDOLD2                 DÓLAR B3 SPOT - 2 DIAS  4.7905\n",
                            "7 2023-07-14       DOL  RTDOLT1                          PTAX800 VENDA  4.7957"
                        ]
                    },
                    "execution_count": 6,
                    "metadata": {},
                    "output_type": "execute_result"
                }
            ],
            "source": [
                "df_econ_ind = (brasa\n",
                "    .get_dataset(\"b3-economic-indicators-price\")\n",
                "    .filter(pc.field(\"refdate\") >= calendar.advance(today, ql.Period(-1, ql.Days)).to_date())\n",
                "    .filter(pc.field(\"refdate\") <= refdate)\n",
                "    .filter(pc.field(\"commodity\") == \"DOL\")\n",
                "    .to_table()\n",
                "    .to_pandas())\n",
                "df_econ_ind"
            ]
        },
        {
            "cell_type": "markdown",
            "metadata": {},
            "source": [
                "Como podemos observar, para cada data de referência temos 4 cotações de dólar:\n",
                "\n",
                "- Dólar cupom limpo cálculado pela B3 a partir do casado\n",
                "- Dólar spot para liquidação em D+1\n",
                "- Dólar spot para liquidação em D+2\n",
                "- PTAX800 cotação de venda\n",
                "\n",
                "Precisamos pegar a cotação da PTAX800 (apenas PTAX) do dia anterior para calcular o cupom sujo.\n",
                "O `symbol` da PTAX, de acordo com a tabela anterior, é `RTDOLT1`.\n",
                "Assim vamos filtrar por este símbolo na data do dia anterior.\n",
                "Para calcular o cupom limpo utilizamos o dólar cupom limpo, filtrando pelo símbolo `RTDOLCL`.\n",
                "\n",
                "Antes de filtrar vou criar uma função para converter `ql.Date` para `datetime.datetime`.\n",
                "Com o pandas é mais fácil trabalhar com `datetime`."
            ]
        },
        {
            "cell_type": "code",
            "execution_count": 7,
            "metadata": {},
            "outputs": [],
            "source": [
                "def ql_to_datetime(d):\n",
                "    # reference: https://stackoverflow.com/questions/45087828/python-quantlib-convert-quantlib-date-to-datetime\n",
                "    # datetime.datetime has methods fromordinal() and toordinal() to convert between datetime.datetime and an integer\n",
                "    # that represents the date.\n",
                "    # ql.Date also has the method serialNumber() to convert ql.Date to integer and its constructor accepts the integer\n",
                "    # as well.\n",
                "    # datetime.datetime uses 0001-01-01 as 1 with increments in days \n",
                "    # ql.Date uses 1899-12-31 as 0\n",
                "    return datetime.fromordinal(d.serialNumber() + datetime(1899, 12, 31).toordinal() - 1)"
            ]
        },
        {
            "cell_type": "markdown",
            "metadata": {},
            "source": [
                "Para seguir com o cálculo do cupom cambial vamos juntar os dados de futuros de taxa DI com os futuros de dólar."
            ]
        },
        {
            "cell_type": "code",
            "execution_count": 8,
            "metadata": {},
            "outputs": [],
            "source": [
                "fut = fut_dol.merge(fut_di1, on=[\"refdate\", \"maturity_date\", \"business_days\"], suffixes=(\"_dol\", \"_di1\"))"
            ]
        },
        {
            "cell_type": "markdown",
            "metadata": {},
            "source": [
                "Agora sim, procedemos com o cálculo do cupom sujo.\n",
                "A curva de cupom cambial tem os vértices nas datas de *fixing*, que são as data onde a cotação do dólar é fixada para\n",
                "a liquidação do contrato.\n",
                "Essa abordagem é diferente do que é implementado pela B3, que utiliza as data de vencimento como vértices da curva.\n",
                "O cálculo do cupom cambial sujo é dado pela fórmula.\n",
                "\n",
                "$$\n",
                "\\left( 1 + c_{v}(t) \\cdot \\frac{DC_{v}(t)}{360} \\right) = \\frac{ \\frac{100000}{PUDI1_{v}(t)} }{ \\frac{PUDOL_{v}(t)}{PTAX_{t-1} \\cdot 1000} }\n",
                "$$\n",
                "\n",
                "$DC_{v}(t)$ são os dias corridos da data de referência até a data de *fixing*."
            ]
        },
        {
            "cell_type": "code",
            "execution_count": 9,
            "metadata": {},
            "outputs": [],
            "source": [
                "yesterday = calendar.advance(today, -1, ql.Days)\n",
                "ptax_1 = df_econ_ind.loc[(df_econ_ind[\"refdate\"] == ql_to_datetime(yesterday)) & (df_econ_ind[\"symbol\"] == \"RTDOLT1\"), \"price\"].item()\n",
                "di1_factor = 100000 / fut[\"settlement_price_di1\"]\n",
                "dol_factor = fut[\"settlement_price_dol\"] / (ptax_1 * 1000)\n",
                "fixing = [calendar.advance(d, 1, ql.Days)\n",
                "          for d in [calendar.adjust(ql.Date.from_date(d), ql.Following)\n",
                "                    for d in fut[\"maturity_date\"]]]\n",
                "dc = [calendar_act.businessDaysBetween(today, d) for d in fixing]\n",
                "fut[\"fixing\"] = [ql_to_datetime(d) for d in fixing]\n",
                "fut[\"cupom_sujo\"] = (di1_factor / dol_factor - 1) * 360 / dc"
            ]
        },
        {
            "cell_type": "markdown",
            "metadata": {},
            "source": [
                "O cálculo do cupom cambial limpo é dado pela fórmula.\n",
                "\n",
                "$$\n",
                "\\left( 1 + c_{v}(t) \\cdot \\frac{DC_{v}^{CL}(t)}{360} \\right) = \\frac{ \\frac{100000}{PUDI1_{v}(t)}\\frac{1}{(1 + CDI_t)^{1/252}} }{ \\frac{PUDOL_{v}(t)}{DOLCL_{t-1} \\cdot 1000} }\n",
                "$$\n",
                "\n",
                "$DC_{v}^{CL}(t)$ são os dias corridos da data de referência, mais 2 dias úteis, até a data de *fixing*.\n",
                "A motivação para essa mudança é que o dólar cupom limpo é liquidado em 2 dias úteis, portanto, a curva deve começar\n",
                "nesta data.\n",
                "Por este motivo, também é necessário retirar 1 dia de CDI do fator da taxa DI."
            ]
        },
        {
            "cell_type": "code",
            "execution_count": 10,
            "metadata": {},
            "outputs": [],
            "source": [
                "spot = df_econ_ind.loc[(df_econ_ind[\"refdate\"] == refdate) & (df_econ_ind[\"symbol\"] == \"RTDOLCL\"), \"price\"].item()\n",
                "di1_factor = (100000 / fut[\"settlement_price_di1\"]) / ((1 + cdi) ** (1/252))\n",
                "dol_factor = fut[\"settlement_price_dol\"] / (spot * 1000)\n",
                "dc = [calendar_act.businessDaysBetween(calendar.advance(today, 2, ql.Days), ql.Date.from_date(d)) for d in fut[\"fixing\"]]\n",
                "fut[\"cupom_limpo\"] = (di1_factor / dol_factor - 1) * 360 / dc\n",
                "fut[\"dc_limpo\"] = dc"
            ]
        },
        {
            "cell_type": "markdown",
            "metadata": {},
            "source": [
                "Para termos de comparação do *shape* da estrutura a termos vamos fazer um gráfico com a curva americana de *Treasuries*."
            ]
        },
        {
            "cell_type": "code",
            "execution_count": 11,
            "metadata": {},
            "outputs": [],
            "source": [
                "us_curve = pd.DataFrame({\n",
                "    \"dc\": pd.Series([1, 2, 3, 4, 6, 12, 24, 36, 60, 72, 120, 240, 360]) * 30,\n",
                "    \"rate\": pd.Series([5.37, 5.49, 5.49, 5.53, 5.52, 5.34, 4.74, 4.35, 4.04, 3.94, 3.83, 4.11, 3.93]) / 100,\n",
                "})\n",
                "us_curve[\"date\"] = [ql_to_datetime(calendar_act.advance(today, d, ql.Days)) for d in us_curve[\"dc\"]]"
            ]
        },
        {
            "cell_type": "code",
            "execution_count": 12,
            "metadata": {},
            "outputs": [
                {
                    "data": {
                        "text/plain": [
                            "<Axes: xlabel='date'>"
                        ]
                    },
                    "execution_count": 12,
                    "metadata": {},
                    "output_type": "execute_result"
                },
                {
                    "data": {
                        "image/png": "[encoded data removed]",
                        "text/plain": [
                            "<Figure size 640x480 with 1 Axes>"
                        ]
                    },
                    "metadata": {},
                    "output_type": "display_data"
                }
            ],
            "source": [
                "ax = fut[[\"fixing\", \"cupom_limpo\", \"cupom_sujo\"]].set_index(\"fixing\").plot()\n",
                "us_curve[[\"date\", \"rate\"]].query(\"date <= '2027-01-01'\").set_index(\"date\").plot(ax=ax)"
            ]
        }
    ],
    "metadata": {
        "kernelspec": {
            "display_name": "w310",
            "language": "python",
            "name": "python3"
        },
        "language_info": {
            "codemirror_mode": {
                "name": "ipython",
                "version": 3
            },
            "file_extension": ".py",
            "mimetype": "text/x-python",
            "name": "python",
            "nbconvert_exporter": "python",
            "pygments_lexer": "ipython3",
            "version": "3.10.12"
        },
        "orig_nbformat": 4
    },
    "nbformat": 4,
    "nbformat_minor": 2
}
